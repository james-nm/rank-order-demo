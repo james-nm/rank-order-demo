{
 "cells": [
  {
   "cell_type": "code",
   "execution_count": 1,
   "id": "7c9ee8f7-457c-468b-ad8d-cd03c533f753",
   "metadata": {},
   "outputs": [],
   "source": [
    "import numpy as np\n",
    "import pandas as pd"
   ]
  },
  {
   "cell_type": "markdown",
   "id": "7c77eea2-ca78-41b8-956f-f172b0848ba6",
   "metadata": {},
   "source": [
    "# Built-in"
   ]
  },
  {
   "cell_type": "code",
   "execution_count": 2,
   "id": "7052a74a-cfaf-4444-917f-b63f910800d2",
   "metadata": {},
   "outputs": [],
   "source": [
    "dataset = [\n",
    "    {'foo': 1, 'bar': 4, 'name': 'bob'},\n",
    "    {'foo': 3, 'bar': 3, 'name': 'joe'},\n",
    "    {'foo': 4, 'bar': 1, 'name': 'smith'}\n",
    "]"
   ]
  },
  {
   "cell_type": "code",
   "execution_count": 3,
   "id": "244f6e2b-f2e8-4f3b-9fd0-427c6024a3c1",
   "metadata": {},
   "outputs": [
    {
     "data": {
      "text/plain": [
       "[{'foo': 1, 'bar': 4, 'name': 'bob'},\n",
       " {'foo': 3, 'bar': 3, 'name': 'joe'},\n",
       " {'foo': 4, 'bar': 1, 'name': 'smith'}]"
      ]
     },
     "execution_count": 3,
     "metadata": {},
     "output_type": "execute_result"
    }
   ],
   "source": [
    "sorted(dataset, key=lambda x: x['foo'])"
   ]
  },
  {
   "cell_type": "code",
   "execution_count": 4,
   "id": "cf8d794a-5d8e-4e2a-8202-6a55ea1a9d2a",
   "metadata": {},
   "outputs": [
    {
     "data": {
      "text/plain": [
       "[{'foo': 4, 'bar': 1, 'name': 'smith'},\n",
       " {'foo': 3, 'bar': 3, 'name': 'joe'},\n",
       " {'foo': 1, 'bar': 4, 'name': 'bob'}]"
      ]
     },
     "execution_count": 4,
     "metadata": {},
     "output_type": "execute_result"
    }
   ],
   "source": [
    "sorted(dataset, key=lambda x: x['bar'])"
   ]
  },
  {
   "cell_type": "code",
   "execution_count": 5,
   "id": "9b04da9a-2360-4d81-87d6-f65688ae6be0",
   "metadata": {},
   "outputs": [
    {
     "data": {
      "text/plain": [
       "[{'foo': 1, 'bar': 4, 'name': 'bob'},\n",
       " {'foo': 4, 'bar': 1, 'name': 'smith'},\n",
       " {'foo': 3, 'bar': 3, 'name': 'joe'}]"
      ]
     },
     "execution_count": 5,
     "metadata": {},
     "output_type": "execute_result"
    }
   ],
   "source": [
    "sorted(dataset, key=lambda x: x['foo'] + x['bar'])"
   ]
  },
  {
   "cell_type": "code",
   "execution_count": 6,
   "id": "a7479f68-5191-4f77-af16-7759bbab5b8e",
   "metadata": {},
   "outputs": [],
   "source": [
    "def rank(x):\n",
    "    return x['foo'] + x['bar']"
   ]
  },
  {
   "cell_type": "code",
   "execution_count": 7,
   "id": "83beaf8f-bc4c-4f6b-9630-ae4102406cb5",
   "metadata": {},
   "outputs": [
    {
     "data": {
      "text/plain": [
       "[{'foo': 1, 'bar': 4, 'name': 'bob'},\n",
       " {'foo': 4, 'bar': 1, 'name': 'smith'},\n",
       " {'foo': 3, 'bar': 3, 'name': 'joe'}]"
      ]
     },
     "execution_count": 7,
     "metadata": {},
     "output_type": "execute_result"
    }
   ],
   "source": [
    "sorted(dataset, key=lambda x: rank(x))"
   ]
  },
  {
   "cell_type": "markdown",
   "id": "6a0876df-b416-433c-b957-f63f518557c3",
   "metadata": {},
   "source": [
    "# Pandas"
   ]
  },
  {
   "cell_type": "code",
   "execution_count": 8,
   "id": "2d9d0a0d-eef8-40a0-9d0b-21d8c457e4af",
   "metadata": {},
   "outputs": [],
   "source": [
    "dataset = [\n",
    "    {'foo': 1, 'bar': 4, 'name': 'bob'},\n",
    "    {'foo': 3, 'bar': 3, 'name': 'joe'},\n",
    "    {'foo': 4, 'bar': 1, 'name': 'smith'}\n",
    "]"
   ]
  },
  {
   "cell_type": "code",
   "execution_count": 9,
   "id": "6389586a-3d42-4fe3-b5cd-969320ad61ed",
   "metadata": {},
   "outputs": [],
   "source": [
    "df = pd.DataFrame(dataset)"
   ]
  },
  {
   "cell_type": "code",
   "execution_count": 10,
   "id": "a227663b-0ed3-4742-af0d-a3d495ed5af1",
   "metadata": {},
   "outputs": [
    {
     "data": {
      "text/html": [
       "<div>\n",
       "<style scoped>\n",
       "    .dataframe tbody tr th:only-of-type {\n",
       "        vertical-align: middle;\n",
       "    }\n",
       "\n",
       "    .dataframe tbody tr th {\n",
       "        vertical-align: top;\n",
       "    }\n",
       "\n",
       "    .dataframe thead th {\n",
       "        text-align: right;\n",
       "    }\n",
       "</style>\n",
       "<table border=\"1\" class=\"dataframe\">\n",
       "  <thead>\n",
       "    <tr style=\"text-align: right;\">\n",
       "      <th></th>\n",
       "      <th>foo</th>\n",
       "      <th>bar</th>\n",
       "      <th>name</th>\n",
       "    </tr>\n",
       "  </thead>\n",
       "  <tbody>\n",
       "    <tr>\n",
       "      <th>0</th>\n",
       "      <td>1</td>\n",
       "      <td>4</td>\n",
       "      <td>bob</td>\n",
       "    </tr>\n",
       "    <tr>\n",
       "      <th>1</th>\n",
       "      <td>3</td>\n",
       "      <td>3</td>\n",
       "      <td>joe</td>\n",
       "    </tr>\n",
       "    <tr>\n",
       "      <th>2</th>\n",
       "      <td>4</td>\n",
       "      <td>1</td>\n",
       "      <td>smith</td>\n",
       "    </tr>\n",
       "  </tbody>\n",
       "</table>\n",
       "</div>"
      ],
      "text/plain": [
       "   foo  bar   name\n",
       "0    1    4    bob\n",
       "1    3    3    joe\n",
       "2    4    1  smith"
      ]
     },
     "execution_count": 10,
     "metadata": {},
     "output_type": "execute_result"
    }
   ],
   "source": [
    "df.sort_values(['foo'])"
   ]
  },
  {
   "cell_type": "code",
   "execution_count": 11,
   "id": "1e4cd4e6-94a3-4fb5-8b07-d7f2d2dc2594",
   "metadata": {},
   "outputs": [
    {
     "data": {
      "text/html": [
       "<div>\n",
       "<style scoped>\n",
       "    .dataframe tbody tr th:only-of-type {\n",
       "        vertical-align: middle;\n",
       "    }\n",
       "\n",
       "    .dataframe tbody tr th {\n",
       "        vertical-align: top;\n",
       "    }\n",
       "\n",
       "    .dataframe thead th {\n",
       "        text-align: right;\n",
       "    }\n",
       "</style>\n",
       "<table border=\"1\" class=\"dataframe\">\n",
       "  <thead>\n",
       "    <tr style=\"text-align: right;\">\n",
       "      <th></th>\n",
       "      <th>foo</th>\n",
       "      <th>bar</th>\n",
       "      <th>name</th>\n",
       "    </tr>\n",
       "  </thead>\n",
       "  <tbody>\n",
       "    <tr>\n",
       "      <th>2</th>\n",
       "      <td>4</td>\n",
       "      <td>1</td>\n",
       "      <td>smith</td>\n",
       "    </tr>\n",
       "    <tr>\n",
       "      <th>1</th>\n",
       "      <td>3</td>\n",
       "      <td>3</td>\n",
       "      <td>joe</td>\n",
       "    </tr>\n",
       "    <tr>\n",
       "      <th>0</th>\n",
       "      <td>1</td>\n",
       "      <td>4</td>\n",
       "      <td>bob</td>\n",
       "    </tr>\n",
       "  </tbody>\n",
       "</table>\n",
       "</div>"
      ],
      "text/plain": [
       "   foo  bar   name\n",
       "2    4    1  smith\n",
       "1    3    3    joe\n",
       "0    1    4    bob"
      ]
     },
     "execution_count": 11,
     "metadata": {},
     "output_type": "execute_result"
    }
   ],
   "source": [
    "df.sort_values(['bar'])"
   ]
  },
  {
   "cell_type": "code",
   "execution_count": 12,
   "id": "7ce6ebc6-264c-409e-ac8c-ac381753efa4",
   "metadata": {
    "scrolled": true
   },
   "outputs": [],
   "source": [
    "#can't do this because each col will be sorted independently\n",
    "#df.sort_values(by=['foo', 'bar'], ascending=[True, True], key=lambda x: x)"
   ]
  },
  {
   "cell_type": "code",
   "execution_count": 13,
   "id": "9c032693-d595-4699-a5a1-6370d4222479",
   "metadata": {},
   "outputs": [],
   "source": [
    "df['rank'] = df['foo'] + df['bar']"
   ]
  },
  {
   "cell_type": "code",
   "execution_count": 14,
   "id": "2ea501b3-5714-43ab-bd06-d497c92bcc01",
   "metadata": {},
   "outputs": [
    {
     "data": {
      "text/html": [
       "<div>\n",
       "<style scoped>\n",
       "    .dataframe tbody tr th:only-of-type {\n",
       "        vertical-align: middle;\n",
       "    }\n",
       "\n",
       "    .dataframe tbody tr th {\n",
       "        vertical-align: top;\n",
       "    }\n",
       "\n",
       "    .dataframe thead th {\n",
       "        text-align: right;\n",
       "    }\n",
       "</style>\n",
       "<table border=\"1\" class=\"dataframe\">\n",
       "  <thead>\n",
       "    <tr style=\"text-align: right;\">\n",
       "      <th></th>\n",
       "      <th>foo</th>\n",
       "      <th>bar</th>\n",
       "      <th>name</th>\n",
       "      <th>rank</th>\n",
       "    </tr>\n",
       "  </thead>\n",
       "  <tbody>\n",
       "    <tr>\n",
       "      <th>0</th>\n",
       "      <td>1</td>\n",
       "      <td>4</td>\n",
       "      <td>bob</td>\n",
       "      <td>5</td>\n",
       "    </tr>\n",
       "    <tr>\n",
       "      <th>2</th>\n",
       "      <td>4</td>\n",
       "      <td>1</td>\n",
       "      <td>smith</td>\n",
       "      <td>5</td>\n",
       "    </tr>\n",
       "    <tr>\n",
       "      <th>1</th>\n",
       "      <td>3</td>\n",
       "      <td>3</td>\n",
       "      <td>joe</td>\n",
       "      <td>6</td>\n",
       "    </tr>\n",
       "  </tbody>\n",
       "</table>\n",
       "</div>"
      ],
      "text/plain": [
       "   foo  bar   name  rank\n",
       "0    1    4    bob     5\n",
       "2    4    1  smith     5\n",
       "1    3    3    joe     6"
      ]
     },
     "execution_count": 14,
     "metadata": {},
     "output_type": "execute_result"
    }
   ],
   "source": [
    "df.sort_values('rank')"
   ]
  },
  {
   "cell_type": "code",
   "execution_count": 15,
   "id": "7bef7467-9c76-4763-871a-8e62015e7018",
   "metadata": {},
   "outputs": [
    {
     "data": {
      "text/html": [
       "<div>\n",
       "<style scoped>\n",
       "    .dataframe tbody tr th:only-of-type {\n",
       "        vertical-align: middle;\n",
       "    }\n",
       "\n",
       "    .dataframe tbody tr th {\n",
       "        vertical-align: top;\n",
       "    }\n",
       "\n",
       "    .dataframe thead th {\n",
       "        text-align: right;\n",
       "    }\n",
       "</style>\n",
       "<table border=\"1\" class=\"dataframe\">\n",
       "  <thead>\n",
       "    <tr style=\"text-align: right;\">\n",
       "      <th></th>\n",
       "      <th>foo</th>\n",
       "      <th>bar</th>\n",
       "      <th>name</th>\n",
       "      <th>rank</th>\n",
       "      <th>rank_weighted</th>\n",
       "    </tr>\n",
       "  </thead>\n",
       "  <tbody>\n",
       "    <tr>\n",
       "      <th>2</th>\n",
       "      <td>4</td>\n",
       "      <td>1</td>\n",
       "      <td>smith</td>\n",
       "      <td>5</td>\n",
       "      <td>3.25</td>\n",
       "    </tr>\n",
       "    <tr>\n",
       "      <th>1</th>\n",
       "      <td>3</td>\n",
       "      <td>3</td>\n",
       "      <td>joe</td>\n",
       "      <td>6</td>\n",
       "      <td>5.25</td>\n",
       "    </tr>\n",
       "    <tr>\n",
       "      <th>0</th>\n",
       "      <td>1</td>\n",
       "      <td>4</td>\n",
       "      <td>bob</td>\n",
       "      <td>5</td>\n",
       "      <td>5.50</td>\n",
       "    </tr>\n",
       "  </tbody>\n",
       "</table>\n",
       "</div>"
      ],
      "text/plain": [
       "   foo  bar   name  rank  rank_weighted\n",
       "2    4    1  smith     5           3.25\n",
       "1    3    3    joe     6           5.25\n",
       "0    1    4    bob     5           5.50"
      ]
     },
     "execution_count": 15,
     "metadata": {},
     "output_type": "execute_result"
    }
   ],
   "source": [
    "weights = {'foo': 0.5, 'bar': 1.25}\n",
    "df['rank_weighted'] = df['foo'] * weights['foo'] + df['bar'] * weights['bar']\n",
    "df.sort_values('rank_weighted')"
   ]
  },
  {
   "cell_type": "code",
   "execution_count": 16,
   "id": "e69adbea-a015-4798-81ed-a6cf2ff74172",
   "metadata": {},
   "outputs": [
    {
     "data": {
      "text/html": [
       "<div>\n",
       "<style scoped>\n",
       "    .dataframe tbody tr th:only-of-type {\n",
       "        vertical-align: middle;\n",
       "    }\n",
       "\n",
       "    .dataframe tbody tr th {\n",
       "        vertical-align: top;\n",
       "    }\n",
       "\n",
       "    .dataframe thead th {\n",
       "        text-align: right;\n",
       "    }\n",
       "</style>\n",
       "<table border=\"1\" class=\"dataframe\">\n",
       "  <thead>\n",
       "    <tr style=\"text-align: right;\">\n",
       "      <th></th>\n",
       "      <th>foo</th>\n",
       "      <th>bar</th>\n",
       "      <th>name</th>\n",
       "      <th>rank</th>\n",
       "      <th>rank_weighted</th>\n",
       "    </tr>\n",
       "  </thead>\n",
       "  <tbody>\n",
       "    <tr>\n",
       "      <th>0</th>\n",
       "      <td>1</td>\n",
       "      <td>4</td>\n",
       "      <td>bob</td>\n",
       "      <td>5</td>\n",
       "      <td>0.25</td>\n",
       "    </tr>\n",
       "    <tr>\n",
       "      <th>1</th>\n",
       "      <td>3</td>\n",
       "      <td>3</td>\n",
       "      <td>joe</td>\n",
       "      <td>6</td>\n",
       "      <td>1.00</td>\n",
       "    </tr>\n",
       "    <tr>\n",
       "      <th>2</th>\n",
       "      <td>4</td>\n",
       "      <td>1</td>\n",
       "      <td>smith</td>\n",
       "      <td>5</td>\n",
       "      <td>4.00</td>\n",
       "    </tr>\n",
       "  </tbody>\n",
       "</table>\n",
       "</div>"
      ],
      "text/plain": [
       "   foo  bar   name  rank  rank_weighted\n",
       "0    1    4    bob     5           0.25\n",
       "1    3    3    joe     6           1.00\n",
       "2    4    1  smith     5           4.00"
      ]
     },
     "execution_count": 16,
     "metadata": {},
     "output_type": "execute_result"
    }
   ],
   "source": [
    "df['rank_weighted'] = df['foo'] / df['bar']\n",
    "df.sort_values('rank_weighted')"
   ]
  },
  {
   "cell_type": "code",
   "execution_count": 17,
   "id": "21208f32-fbff-436b-bbc3-d16a069c262f",
   "metadata": {},
   "outputs": [],
   "source": [
    "from sklearn.preprocessing import MinMaxScaler"
   ]
  },
  {
   "cell_type": "code",
   "execution_count": 18,
   "id": "522d47e2-d5db-4cb1-b44e-c04dfac372d3",
   "metadata": {},
   "outputs": [],
   "source": [
    "df_fancy = df.copy().drop(columns=['rank_weighted', 'rank'])"
   ]
  },
  {
   "cell_type": "code",
   "execution_count": 19,
   "id": "3648460c-8efa-495d-a123-09402db43e82",
   "metadata": {},
   "outputs": [],
   "source": [
    "for col in ['foo', 'bar']:\n",
    "    df_fancy[col] = MinMaxScaler().fit_transform(df[[col]])"
   ]
  },
  {
   "cell_type": "code",
   "execution_count": 20,
   "id": "136218ea-db60-4291-b0f6-319df2ef91fd",
   "metadata": {},
   "outputs": [
    {
     "data": {
      "text/html": [
       "<div>\n",
       "<style scoped>\n",
       "    .dataframe tbody tr th:only-of-type {\n",
       "        vertical-align: middle;\n",
       "    }\n",
       "\n",
       "    .dataframe tbody tr th {\n",
       "        vertical-align: top;\n",
       "    }\n",
       "\n",
       "    .dataframe thead th {\n",
       "        text-align: right;\n",
       "    }\n",
       "</style>\n",
       "<table border=\"1\" class=\"dataframe\">\n",
       "  <thead>\n",
       "    <tr style=\"text-align: right;\">\n",
       "      <th></th>\n",
       "      <th>foo</th>\n",
       "      <th>bar</th>\n",
       "      <th>name</th>\n",
       "    </tr>\n",
       "  </thead>\n",
       "  <tbody>\n",
       "    <tr>\n",
       "      <th>0</th>\n",
       "      <td>0.000000</td>\n",
       "      <td>1.000000</td>\n",
       "      <td>bob</td>\n",
       "    </tr>\n",
       "    <tr>\n",
       "      <th>1</th>\n",
       "      <td>0.666667</td>\n",
       "      <td>0.666667</td>\n",
       "      <td>joe</td>\n",
       "    </tr>\n",
       "    <tr>\n",
       "      <th>2</th>\n",
       "      <td>1.000000</td>\n",
       "      <td>0.000000</td>\n",
       "      <td>smith</td>\n",
       "    </tr>\n",
       "  </tbody>\n",
       "</table>\n",
       "</div>"
      ],
      "text/plain": [
       "        foo       bar   name\n",
       "0  0.000000  1.000000    bob\n",
       "1  0.666667  0.666667    joe\n",
       "2  1.000000  0.000000  smith"
      ]
     },
     "execution_count": 20,
     "metadata": {},
     "output_type": "execute_result"
    }
   ],
   "source": [
    "df_fancy"
   ]
  },
  {
   "cell_type": "code",
   "execution_count": 21,
   "id": "00ed8641-5b2e-4a40-950c-b7033a9cdfa5",
   "metadata": {},
   "outputs": [],
   "source": [
    "df_fancy['rank'] = df_fancy['foo'] + df_fancy['bar']"
   ]
  },
  {
   "cell_type": "code",
   "execution_count": 22,
   "id": "62f40dbc-75c5-4b1c-87e7-7a99cc5038c5",
   "metadata": {},
   "outputs": [
    {
     "data": {
      "text/html": [
       "<div>\n",
       "<style scoped>\n",
       "    .dataframe tbody tr th:only-of-type {\n",
       "        vertical-align: middle;\n",
       "    }\n",
       "\n",
       "    .dataframe tbody tr th {\n",
       "        vertical-align: top;\n",
       "    }\n",
       "\n",
       "    .dataframe thead th {\n",
       "        text-align: right;\n",
       "    }\n",
       "</style>\n",
       "<table border=\"1\" class=\"dataframe\">\n",
       "  <thead>\n",
       "    <tr style=\"text-align: right;\">\n",
       "      <th></th>\n",
       "      <th>foo</th>\n",
       "      <th>bar</th>\n",
       "      <th>name</th>\n",
       "      <th>rank</th>\n",
       "    </tr>\n",
       "  </thead>\n",
       "  <tbody>\n",
       "    <tr>\n",
       "      <th>1</th>\n",
       "      <td>0.666667</td>\n",
       "      <td>0.666667</td>\n",
       "      <td>joe</td>\n",
       "      <td>1.333333</td>\n",
       "    </tr>\n",
       "    <tr>\n",
       "      <th>0</th>\n",
       "      <td>0.000000</td>\n",
       "      <td>1.000000</td>\n",
       "      <td>bob</td>\n",
       "      <td>1.000000</td>\n",
       "    </tr>\n",
       "    <tr>\n",
       "      <th>2</th>\n",
       "      <td>1.000000</td>\n",
       "      <td>0.000000</td>\n",
       "      <td>smith</td>\n",
       "      <td>1.000000</td>\n",
       "    </tr>\n",
       "  </tbody>\n",
       "</table>\n",
       "</div>"
      ],
      "text/plain": [
       "        foo       bar   name      rank\n",
       "1  0.666667  0.666667    joe  1.333333\n",
       "0  0.000000  1.000000    bob  1.000000\n",
       "2  1.000000  0.000000  smith  1.000000"
      ]
     },
     "execution_count": 22,
     "metadata": {},
     "output_type": "execute_result"
    }
   ],
   "source": [
    "df_fancy.sort_values('rank', ascending=False)"
   ]
  }
 ],
 "metadata": {
  "kernelspec": {
   "display_name": "Python 3 (ipykernel)",
   "language": "python",
   "name": "python3"
  },
  "language_info": {
   "codemirror_mode": {
    "name": "ipython",
    "version": 3
   },
   "file_extension": ".py",
   "mimetype": "text/x-python",
   "name": "python",
   "nbconvert_exporter": "python",
   "pygments_lexer": "ipython3",
   "version": "3.11.4"
  }
 },
 "nbformat": 4,
 "nbformat_minor": 5
}
